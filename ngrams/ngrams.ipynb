{
 "cells": [
  {
   "cell_type": "code",
   "execution_count": 86,
   "outputs": [
    {
     "name": "stdout",
     "output_type": "stream",
     "text": [
      "0    [nearly, nine, meat, poultry, plant, workers, ...\n",
      "Name: token, dtype: object\n"
     ]
    }
   ],
   "source": [
    "import pandas as pd, nltk, spacy\n",
    "from gensim.utils import unicode\n",
    "from nltk.corpus import stopwords\n",
    "from gensim.models import Phrases\n",
    "from gensim.models.phrases import Phraser\n",
    "\n",
    "df = pd.read_csv('tweets.csv', encoding='utf8')\n",
    "tokenizer        = lambda tweet : tweet.split()\n",
    "to_lower_expr    = lambda tokens: [token.lower() for token in tokens]\n",
    "del_digits_expr  = lambda tokens: [token for token in tokens if token.isnumeric() == False]\n",
    "del_letters_expr = lambda tokens: [token for token in tokens if len(token) > 2]\n",
    "df['token'] = df['text'].apply(tokenizer)\n",
    "df['token'] = df['token'].apply(to_lower_expr)\n",
    "df['token'] = df['token'].apply(del_digits_expr)\n",
    "df['token'] = df['token'].apply(del_letters_expr)\n",
    "\n",
    "print(df['token'].head(1))\n",
    "\n",
    "# SPACY\n",
    "#nlp = spacy.load('en-core-web-sm', disable=['parser', 'ner'])\n",
    "nlp = en_core_web_sm.load()\n",
    "spacy_stop_words = list(nlp.Defaults.stop_words)\n",
    "spacy_stop_words.sort()\n",
    "\n",
    "# NLTK Stopwords\n",
    "#nltk.download('stopwords')\n",
    "nltk_stop_words = stopwords.words('english')\n",
    "nltk_stop_words.sort()\n",
    "\n",
    "stop_words = nltk_stop_words.copy()\n",
    "stop_words.extend(spacy_stop_words)\n",
    "stop_words.extend(['from', 'subject', 're', 'edu', 'use', 'not', 'would', 'say', 'could', '_', 'be', 'know', 'good', 'go', 'get', 'do', 'done', 'try', 'many', 'some', 'nice', 'thank', 'think', 'see', 'rather', 'easy', 'easily', 'lot', 'lack', 'make', 'want', 'seem', 'run', 'need', 'even', 'right', 'line', 'even', 'also', 'may', 'take', 'come'])\n",
    "\n",
    "# keep unique\n",
    "stop_words = list(set(stop_words))\n",
    "\n",
    "data_words = list(df['text'])\n",
    "bigram = Phrases(data_words, min_count=30, threshold=100) # higher threshold fewer phrases.\n",
    "trigram = Phrases(bigram[data_words], threshold=100)\n",
    "\n",
    "#Persisted Model, no further updates possible\n",
    "bigram_mod = Phraser(bigram)\n",
    "trigram_mod = Phraser(trigram)"
   ],
   "metadata": {
    "collapsed": false,
    "pycharm": {
     "name": "#%%\n"
    }
   }
  },
  {
   "cell_type": "code",
   "execution_count": 85,
   "outputs": [
    {
     "name": "stdout",
     "output_type": "stream",
     "text": [
      "周,年 => 475.02288329519445\n",
      "제,대 => 159.4890756302521\n",
      "로,된 => 294.7080745341615\n",
      "홍,보 => 442.22368421052636\n",
      "키,즈 => 137.19903614457832\n",
      "以,下 => 527.2\n",
      "キ,ャ => 165.9020979020979\n",
      "ン,ペ => 106.86486486486487\n",
      "ま,す => 188.28571428571428\n",
      "눈,의 => 136.93506493506493\n",
      "시,간 => 306.51162790697674\n",
      "𝗦,𝗔 => 218.0514705882353\n",
      "방,탄 => 174.4924977934687\n",
      "소,년 => 149.3118881118881\n",
      "天,官 => 790.8\n",
      "赐,福 => 1355.657142857143\n",
      "周,年 => 475.02288329519445\n",
      "종,호 => 389.3908814589666\n",
      "방,황 => 152.7681818181818\n",
      "종,호 => 389.3908814589666\n",
      "방,황 => 152.7681818181818\n",
      "티,즈 => 146.38212765957448\n",
      "종,호 => 389.3908814589666\n",
      "티,즈 => 146.38212765957448\n",
      "키,즈 => 137.19903614457832\n",
      "키,즈 => 137.19903614457832\n",
      "방,탄 => 174.4924977934687\n",
      "소,년 => 149.3118881118881\n",
      "알,엠 => 1186.2\n",
      "엑,소 => 102.65192307692308\n",
      "ン,ペ => 106.86486486486487\n",
      "ン,ペ => 106.86486486486487\n",
      "チ,ャ => 405.5384615384615\n",
      "𝗿,𝗲 => 187.54150197628456\n",
      "𝗴,𝗶 => 521.4065934065934\n",
      "𝘀,𝘁 => 234.11842105263156\n",
      "𝗿,𝗲 => 187.54150197628456\n",
      "𝗴,𝗶 => 521.4065934065934\n",
      "𝘀,𝘁 => 234.11842105263156\n",
      "त,् => 140.65612648221344\n",
      "제,대 => 159.4890756302521\n",
      "로,된 => 294.7080745341615\n",
      "홍,보 => 442.22368421052636\n",
      "𝗜,𝗙 => 155.3357142857143\n",
      "𝗜,𝗧 => 182.21198156682027\n",
      "𝗦,𝗔 => 218.0514705882353\n",
      "𝗙,𝗘 => 161.75454545454548\n",
      "𝗜,𝗙 => 155.3357142857143\n",
      "𝗜,𝗧 => 182.21198156682027\n",
      "𝗦,𝗔 => 218.0514705882353\n",
      "𝗙,𝗘 => 161.75454545454548\n",
      "𝗜,𝗙 => 155.3357142857143\n",
      "𝗜,𝗧 => 182.21198156682027\n",
      "𝗦,𝗔 => 218.0514705882353\n",
      "𝗙,𝗘 => 161.75454545454548\n",
      "방,탄 => 174.4924977934687\n",
      "소,년 => 149.3118881118881\n",
      "네,발 => 665.936842105263\n",
      "구,를 => 127.54838709677418\n",
      "비,추 => 306.1161290322581\n",
      "석,진 => 185.12124849939974\n",
      "ス,ト => 126.52799999999999\n",
      "チ,ャ => 405.5384615384615\n",
      "엑,소 => 102.65192307692308\n",
      "억,뷰 => 1437.8181818181818\n",
      "블,랙 => 535.1278195488721\n",
      "핑,크 => 557.4248120300753\n",
      "타,플 => 515.7391304347826\n",
      "🄸,🅅 => 968.3265306122448\n",
      "🄲,🄿 => 968.3265306122448\n",
      "🄻,🅅 => 484.1632653061224\n",
      "🄳,🅂 => 1694.5714285714284\n",
      "방,탄 => 174.4924977934687\n",
      "소,년 => 149.3118881118881\n",
      "알,엠 => 1186.2\n",
      "周,年 => 475.02288329519445\n",
      "Ç,Õ => 169.08552631578948\n",
      "생,일 => 105.91071428571428\n",
      "온,앤 => 370.6875\n",
      "타,엑 => 139.0078125\n",
      "키,즈 => 137.19903614457832\n",
      "ˎ,ˊ => 564.8571428571428\n",
      "周,年 => 475.02288329519445\n",
      "ˎ,ˊ => 564.8571428571428\n",
      "𝙖,𝙣 => 338.9142857142857\n",
      "𝙨,𝙩 => 107.83636363636366\n",
      "방,탄 => 174.4924977934687\n",
      "소,년 => 149.3118881118881\n",
      "周,年 => 475.02288329519445\n",
      "𝐋,𝐄 => 109.32718894009217\n",
      "天,官 => 790.8\n",
      "赐,福 => 1355.657142857143\n",
      "硬,糖 => 1694.5714285714284\n",
      "少,女 => 564.8571428571428\n",
      "방,탄 => 174.4924977934687\n",
      "소,년 => 149.3118881118881\n",
      "알,엠 => 1186.2\n",
      "𝗜,𝗙 => 155.3357142857143\n",
      "𝗜,𝗧 => 182.21198156682027\n",
      "𝗦,𝗔 => 218.0514705882353\n",
      "𝗙,𝗘 => 161.75454545454548\n",
      "𝗜,𝗙 => 155.3357142857143\n",
      "𝗜,𝗧 => 182.21198156682027\n",
      "𝗦,𝗔 => 218.0514705882353\n",
      "𝗙,𝗘 => 161.75454545454548\n",
      "𝗜,𝗙 => 155.3357142857143\n",
      "𝗜,𝗧 => 182.21198156682027\n",
      "𝗦,𝗔 => 218.0514705882353\n",
      "𝗙,𝗘 => 161.75454545454548\n",
      "방,탄 => 174.4924977934687\n",
      "소,년 => 149.3118881118881\n",
      "𝙫,𝙚 => 338.91428571428577\n",
      "핑,크 => 557.4248120300753\n",
      "김,남 => 113.51196172248804\n",
      "태,형 => 323.56792144026184\n",
      "개,국 => 148.85647058823528\n",
      "키,즈 => 137.19903614457832\n",
      "配,信 => 1096.4873949579833\n",
      "開,始 => 632.64\n",
      "키,즈 => 137.19903614457832\n",
      "타,플 => 515.7391304347826\n",
      "周,年 => 475.02288329519445\n",
      "𝐚,𝐲 => 115.72682926829269\n",
      "ㅠ,ㅠ => 147.04958677685948\n",
      "방,탄 => 174.4924977934687\n",
      "소,년 => 149.3118881118881\n",
      "남,준 => 431.3454545454545\n",
      "골,든 => 1977.0\n",
      "타,플 => 515.7391304347826\n",
      "븐,틴 => 230.65\n",
      "개,국 => 148.85647058823528\n"
     ]
    }
   ],
   "source": [
    "for phrase, score in bigram.export_phrases(data_words[:10000], as_tuples=True):\n",
    "    print(f'{unicode(phrase[0], \"utf8\")},{unicode(phrase[1], \"utf8\")} => {score}')\n",
    "    pass"
   ],
   "metadata": {
    "collapsed": false,
    "pycharm": {
     "name": "#%%\n"
    }
   }
  },
  {
   "cell_type": "code",
   "execution_count": 68,
   "outputs": [
    {
     "data": {
      "text/plain": "['united', 'states']"
     },
     "execution_count": 68,
     "metadata": {},
     "output_type": "execute_result"
    }
   ],
   "source": [
    "bigram_mod[['united', 'states']]\n"
   ],
   "metadata": {
    "collapsed": false,
    "pycharm": {
     "name": "#%%\n"
    }
   }
  },
  {
   "cell_type": "code",
   "execution_count": 65,
   "outputs": [
    {
     "data": {
      "text/plain": "['black', 'lives']"
     },
     "execution_count": 65,
     "metadata": {},
     "output_type": "execute_result"
    }
   ],
   "source": [
    "trigram_mod[['black', 'lives']]"
   ],
   "metadata": {
    "collapsed": false,
    "pycharm": {
     "name": "#%%\n"
    }
   }
  },
  {
   "cell_type": "code",
   "execution_count": 20,
   "outputs": [
    {
     "data": {
      "text/plain": "True"
     },
     "execution_count": 20,
     "metadata": {},
     "output_type": "execute_result"
    }
   ],
   "source": [
    "bigram_mod[data_words] == trigram_mod[data_words]"
   ],
   "metadata": {
    "collapsed": false,
    "pycharm": {
     "name": "#%%\n"
    }
   }
  },
  {
   "cell_type": "code",
   "execution_count": null,
   "metadata": {},
   "outputs": [],
   "source": []
  }
 ],
 "metadata": {
  "kernelspec": {
   "display_name": "Python 3",
   "language": "python",
   "name": "python3"
  },
  "language_info": {
   "codemirror_mode": {
    "name": "ipython",
    "version": 3
   },
   "file_extension": ".py",
   "mimetype": "text/x-python",
   "name": "python",
   "nbconvert_exporter": "python",
   "pygments_lexer": "ipython3",
   "version": "3.8.0"
  }
 },
 "nbformat": 4,
 "nbformat_minor": 1
}