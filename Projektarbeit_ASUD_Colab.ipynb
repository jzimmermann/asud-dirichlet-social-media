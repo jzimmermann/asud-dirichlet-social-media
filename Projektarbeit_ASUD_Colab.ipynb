{
 "nbformat": 4,
 "nbformat_minor": 0,
 "metadata": {
  "colab": {
   "name": "Projektarbeit ASUD - Colab",
   "provenance": [],
   "collapsed_sections": [],
   "toc_visible": true,
   "include_colab_link": true
  },
  "kernelspec": {
   "name": "python3",
   "language": "python",
   "display_name": "Python 3"
  }
 },
 "cells": [
  {
   "cell_type": "markdown",
   "metadata": {
    "id": "view-in-github",
    "colab_type": "text"
   },
   "source": [
    "<a href=\"https://colab.research.google.com/github/jzimmermann/asud-dirichlet-social-media/blob/master/Projektarbeit_ASUD_Colab.ipynb\" target=\"_parent\"><img src=\"https://colab.research.google.com/assets/colab-badge.svg\" alt=\"Open In Colab\"/></a>"
   ]
  },
  {
   "cell_type": "markdown",
   "metadata": {
    "colab_type": "text",
    "id": "-Rh3-Vt9Nev9"
   },
   "source": [
    "## Resources\n",
    "\n",
    "### Working with Notebooks in Colab\n",
    "- [Overview of Colaboratory](/notebooks/basic_features_overview.ipynb)\n",
    "- [Guide to Markdown](/notebooks/markdown_guide.ipynb)\n",
    "- [Importing libraries and installing dependencies](/notebooks/snippets/importing_libraries.ipynb)\n",
    "- [Saving and loading notebooks in GitHub](https://colab.research.google.com/github/googlecolab/colabtools/blob/master/notebooks/colab-github-demo.ipynb)\n",
    "- [Interactive forms](/notebooks/forms.ipynb)\n",
    "- [Interactive widgets](/notebooks/widgets.ipynb)\n",
    "- <img src=\"/img/new.png\" height=\"20px\" align=\"left\" hspace=\"4px\" alt=\"New\"></img>\n",
    " [TensorFlow 2 in Colab](/notebooks/tensorflow_version.ipynb)\n",
    "\n",
    "<a name=\"working-with-data\"></a>\n",
    "### Working with Data\n",
    "- [Loading data: Drive, Sheets, and Google Cloud Storage](/notebooks/io.ipynb) \n",
    "- [Charts: visualizing data](/notebooks/charts.ipynb)\n",
    "- [Getting started with BigQuery](/notebooks/bigquery.ipynb)\n",
    "\n",
    "### Machine Learning Crash Course\n",
    "These are a few of the notebooks from Google's online Machine Learning course. See the [full course website](https://developers.google.com/machine-learning/crash-course/) for more.\n",
    "- [Intro to Pandas](/notebooks/mlcc/intro_to_pandas.ipynb)\n",
    "- [Tensorflow concepts](/notebooks/mlcc/tensorflow_programming_concepts.ipynb)\n",
    "- [First steps with TensorFlow](/notebooks/mlcc/first_steps_with_tensor_flow.ipynb)\n",
    "- [Intro to neural nets](/notebooks/mlcc/intro_to_neural_nets.ipynb)\n",
    "- [Intro to sparse data and embeddings](/notebooks/mlcc/intro_to_sparse_data_and_embeddings.ipynb)\n",
    "\n",
    "<a name=\"using-accelerated-hardware\"></a>\n",
    "### Using Accelerated Hardware\n",
    "- [TensorFlow with GPUs](/notebooks/gpu.ipynb)\n",
    "- [TensorFlow with TPUs](/notebooks/tpu.ipynb)"
   ]
  },
  {
   "cell_type": "markdown",
   "metadata": {
    "id": "LmwcxAdL2_0F",
    "colab_type": "text",
    "pycharm": {
     "name": "#%% md\n"
    }
   },
   "source": [
    "# Collecting data\n",
    "\n",
    "Resources for collecting data from various social platforms (e.g. Twitter, Facebook, Instagram, etc)\n",
    "\n",
    "## Twitter\n",
    "\n",
    "### Twitter Developer API\n",
    "\n",
    "See [Twitter Developer API documentation](https://developer.twitter.com/en).\n",
    "Usage requires a developer account.\n",
    "\n",
    "### Scraper\n",
    "\n",
    "[Twitter-Scraper @ github](https://github.com/taspinar/twitterscraper)\n",
    "\n",
    "## Facebook\n",
    "\n",
    "### Facebook Developer API\n",
    "\n",
    "### Scraper\n",
    "\n",
    "[Facebook-Scraper @ pypi](https://pypi.org/project/facebook-scraper)\n",
    "\n",
    "## Instagram\n",
    "\n",
    "### Scraper\n",
    "\n",
    "[Instragram-Scraper @ github](https://github.com/rarcega/instagram-scraper)\n",
    "\n",
    "## Reddit\n",
    "\n",
    "### Scraper\n",
    "[Reddit-Scraper @ github](https://github.com/JosephLai241/Universal-Reddit-Scraper)"
   ]
  }
 ]
}